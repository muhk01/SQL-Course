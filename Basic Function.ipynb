{
 "cells": [
  {
   "cell_type": "markdown",
   "metadata": {},
   "source": [
    "# SQL Function"
   ]
  },
  {
   "cell_type": "code",
   "execution_count": 2,
   "metadata": {},
   "outputs": [],
   "source": [
    "%reload_ext sql"
   ]
  },
  {
   "cell_type": "code",
   "execution_count": 3,
   "metadata": {},
   "outputs": [],
   "source": [
    "%sql sqlite:///course.db3"
   ]
  },
  {
   "cell_type": "code",
   "execution_count": 4,
   "metadata": {},
   "outputs": [
    {
     "name": "stdout",
     "output_type": "stream",
     "text": [
      " * sqlite:///course.db3\n",
      "Done.\n"
     ]
    },
    {
     "data": {
      "text/plain": [
       "[]"
      ]
     },
     "execution_count": 4,
     "metadata": {},
     "output_type": "execute_result"
    }
   ],
   "source": [
    "%%sql\n",
    "create table professors(\n",
    "last_name varchar(20),\n",
    "department varchar(12),\n",
    "salary INT,\n",
    "hire_date date);"
   ]
  },
  {
   "cell_type": "markdown",
   "metadata": {},
   "source": [
    "Inserting data into table"
   ]
  },
  {
   "cell_type": "code",
   "execution_count": 6,
   "metadata": {},
   "outputs": [
    {
     "name": "stdout",
     "output_type": "stream",
     "text": [
      " * sqlite:///course.db3\n",
      "1 rows affected.\n",
      "1 rows affected.\n",
      "1 rows affected.\n",
      "1 rows affected.\n",
      "1 rows affected.\n",
      "1 rows affected.\n"
     ]
    },
    {
     "data": {
      "text/plain": [
       "[]"
      ]
     },
     "execution_count": 6,
     "metadata": {},
     "output_type": "execute_result"
    }
   ],
   "source": [
    "%%sql\n",
    "insert into professors values ('Chong', 'Science', 88000, '2006-04-18');\n",
    "insert into professors values ('Brown', 'Math', 97000, '2002-08-22');\n",
    "insert into professors values ('Jones', 'History', 67000, '2009-11-17');\n",
    "insert into professors values ('Wilson', 'Astronomy', 110000, '2005-01-15');\n",
    "insert into professors values ('Miler', 'Agriculture', 82000, '2008-05-08');\n",
    "insert into professors values ('Williams', 'Law', 105000, '2001-06-05');"
   ]
  },
  {
   "cell_type": "code",
   "execution_count": 7,
   "metadata": {},
   "outputs": [
    {
     "name": "stdout",
     "output_type": "stream",
     "text": [
      " * sqlite:///course.db3\n",
      "Done.\n"
     ]
    },
    {
     "data": {
      "text/html": [
       "<table>\n",
       "    <tr>\n",
       "        <th>last_name</th>\n",
       "        <th>department</th>\n",
       "        <th>salary</th>\n",
       "        <th>hire_date</th>\n",
       "    </tr>\n",
       "    <tr>\n",
       "        <td>Chong</td>\n",
       "        <td>Science</td>\n",
       "        <td>88000</td>\n",
       "        <td>2006-04-18</td>\n",
       "    </tr>\n",
       "    <tr>\n",
       "        <td>Brown</td>\n",
       "        <td>Math</td>\n",
       "        <td>97000</td>\n",
       "        <td>2002-08-22</td>\n",
       "    </tr>\n",
       "    <tr>\n",
       "        <td>Jones</td>\n",
       "        <td>History</td>\n",
       "        <td>67000</td>\n",
       "        <td>2009-11-17</td>\n",
       "    </tr>\n",
       "    <tr>\n",
       "        <td>Wilson</td>\n",
       "        <td>Astronomy</td>\n",
       "        <td>110000</td>\n",
       "        <td>2005-01-15</td>\n",
       "    </tr>\n",
       "    <tr>\n",
       "        <td>Miler</td>\n",
       "        <td>Agriculture</td>\n",
       "        <td>82000</td>\n",
       "        <td>2008-05-08</td>\n",
       "    </tr>\n",
       "    <tr>\n",
       "        <td>Williams</td>\n",
       "        <td>Law</td>\n",
       "        <td>105000</td>\n",
       "        <td>2001-06-05</td>\n",
       "    </tr>\n",
       "</table>"
      ],
      "text/plain": [
       "[('Chong', 'Science', 88000, '2006-04-18'),\n",
       " ('Brown', 'Math', 97000, '2002-08-22'),\n",
       " ('Jones', 'History', 67000, '2009-11-17'),\n",
       " ('Wilson', 'Astronomy', 110000, '2005-01-15'),\n",
       " ('Miler', 'Agriculture', 82000, '2008-05-08'),\n",
       " ('Williams', 'Law', 105000, '2001-06-05')]"
      ]
     },
     "execution_count": 7,
     "metadata": {},
     "output_type": "execute_result"
    }
   ],
   "source": [
    "%%sql\n",
    "SELECT * FROM professors"
   ]
  },
  {
   "cell_type": "markdown",
   "metadata": {},
   "source": [
    "## UPPER and LOWER Function"
   ]
  },
  {
   "cell_type": "markdown",
   "metadata": {},
   "source": [
    "Return either uppercase or lowercase value of correspond table only applied on varchar data Type."
   ]
  },
  {
   "cell_type": "code",
   "execution_count": 22,
   "metadata": {},
   "outputs": [
    {
     "name": "stdout",
     "output_type": "stream",
     "text": [
      " * sqlite:///course.db3\n",
      "Done.\n"
     ]
    },
    {
     "data": {
      "text/html": [
       "<table>\n",
       "    <tr>\n",
       "        <th>UP_Last</th>\n",
       "        <th>LOWER(department)</th>\n",
       "    </tr>\n",
       "    <tr>\n",
       "        <td>CHONG</td>\n",
       "        <td>science</td>\n",
       "    </tr>\n",
       "    <tr>\n",
       "        <td>BROWN</td>\n",
       "        <td>math</td>\n",
       "    </tr>\n",
       "    <tr>\n",
       "        <td>JONES</td>\n",
       "        <td>history</td>\n",
       "    </tr>\n",
       "    <tr>\n",
       "        <td>WILSON</td>\n",
       "        <td>astronomy</td>\n",
       "    </tr>\n",
       "    <tr>\n",
       "        <td>MILER</td>\n",
       "        <td>agriculture</td>\n",
       "    </tr>\n",
       "    <tr>\n",
       "        <td>WILLIAMS</td>\n",
       "        <td>law</td>\n",
       "    </tr>\n",
       "</table>"
      ],
      "text/plain": [
       "[('CHONG', 'science'),\n",
       " ('BROWN', 'math'),\n",
       " ('JONES', 'history'),\n",
       " ('WILSON', 'astronomy'),\n",
       " ('MILER', 'agriculture'),\n",
       " ('WILLIAMS', 'law')]"
      ]
     },
     "execution_count": 22,
     "metadata": {},
     "output_type": "execute_result"
    }
   ],
   "source": [
    "%%sql\n",
    "SELECT UPPER(last_name) as UP_Last, LOWER(department)\n",
    "FROM professors"
   ]
  },
  {
   "cell_type": "markdown",
   "metadata": {},
   "source": [
    "## Boolean Condition"
   ]
  },
  {
   "cell_type": "markdown",
   "metadata": {},
   "source": [
    "Return 0 or 1 of Condition per column based on argument"
   ]
  },
  {
   "cell_type": "code",
   "execution_count": 44,
   "metadata": {
    "scrolled": true
   },
   "outputs": [
    {
     "name": "stdout",
     "output_type": "stream",
     "text": [
      " * sqlite:///course.db3\n",
      "Done.\n"
     ]
    },
    {
     "data": {
      "text/html": [
       "<table>\n",
       "    <tr>\n",
       "        <th>Boolean</th>\n",
       "    </tr>\n",
       "    <tr>\n",
       "        <td>0</td>\n",
       "    </tr>\n",
       "    <tr>\n",
       "        <td>1</td>\n",
       "    </tr>\n",
       "    <tr>\n",
       "        <td>0</td>\n",
       "    </tr>\n",
       "    <tr>\n",
       "        <td>1</td>\n",
       "    </tr>\n",
       "    <tr>\n",
       "        <td>0</td>\n",
       "    </tr>\n",
       "    <tr>\n",
       "        <td>1</td>\n",
       "    </tr>\n",
       "</table>"
      ],
      "text/plain": [
       "[(0,), (1,), (0,), (1,), (0,), (1,)]"
      ]
     },
     "execution_count": 44,
     "metadata": {},
     "output_type": "execute_result"
    }
   ],
   "source": [
    "%%sql\n",
    "SELECT (salary > 95000) as Boolean\n",
    "FROM professors"
   ]
  },
  {
   "cell_type": "code",
   "execution_count": 41,
   "metadata": {},
   "outputs": [
    {
     "name": "stdout",
     "output_type": "stream",
     "text": [
      " * sqlite:///course.db3\n",
      "Done.\n"
     ]
    },
    {
     "data": {
      "text/html": [
       "<table>\n",
       "    <tr>\n",
       "        <th>selection</th>\n",
       "    </tr>\n",
       "    <tr>\n",
       "        <td>Chong works in the Science Department</td>\n",
       "    </tr>\n",
       "</table>"
      ],
      "text/plain": [
       "[('Chong works in the Science Department',)]"
      ]
     },
     "execution_count": 41,
     "metadata": {},
     "output_type": "execute_result"
    }
   ],
   "source": [
    "%%sql\n",
    "SELECT (last_name || ' works in the ' || department || ' Department') as selection \n",
    "FROM professors\n",
    "WHERE last_name = 'Chong'"
   ]
  },
  {
   "cell_type": "markdown",
   "metadata": {},
   "source": [
    "## MAX and MIN Function"
   ]
  },
  {
   "cell_type": "markdown",
   "metadata": {},
   "source": [
    "return maximum and minimum value for correspond column."
   ]
  },
  {
   "cell_type": "code",
   "execution_count": 28,
   "metadata": {
    "scrolled": true
   },
   "outputs": [
    {
     "name": "stdout",
     "output_type": "stream",
     "text": [
      " * sqlite:///course.db3\n",
      "Done.\n"
     ]
    },
    {
     "data": {
      "text/html": [
       "<table>\n",
       "    <tr>\n",
       "        <th>min_sal</th>\n",
       "        <th>max_sal</th>\n",
       "    </tr>\n",
       "    <tr>\n",
       "        <td>67000</td>\n",
       "        <td>110000</td>\n",
       "    </tr>\n",
       "</table>"
      ],
      "text/plain": [
       "[(67000, 110000)]"
      ]
     },
     "execution_count": 28,
     "metadata": {},
     "output_type": "execute_result"
    }
   ],
   "source": [
    "%%sql\n",
    "SELECT MIN(salary) as min_sal, MAX(salary) as max_sal\n",
    "FROM professors"
   ]
  },
  {
   "cell_type": "markdown",
   "metadata": {},
   "source": [
    "## COUNT Function"
   ]
  },
  {
   "cell_type": "markdown",
   "metadata": {},
   "source": [
    "Count table row."
   ]
  },
  {
   "cell_type": "code",
   "execution_count": 32,
   "metadata": {},
   "outputs": [
    {
     "name": "stdout",
     "output_type": "stream",
     "text": [
      " * sqlite:///course.db3\n",
      "Done.\n"
     ]
    },
    {
     "data": {
      "text/html": [
       "<table>\n",
       "    <tr>\n",
       "        <th>COUNT(*)</th>\n",
       "    </tr>\n",
       "    <tr>\n",
       "        <td>6</td>\n",
       "    </tr>\n",
       "</table>"
      ],
      "text/plain": [
       "[(6,)]"
      ]
     },
     "execution_count": 32,
     "metadata": {},
     "output_type": "execute_result"
    }
   ],
   "source": [
    "%%sql\n",
    "SELECT COUNT(*)\n",
    "FROM professors"
   ]
  },
  {
   "cell_type": "markdown",
   "metadata": {},
   "source": [
    "## COALESCE"
   ]
  },
  {
   "cell_type": "markdown",
   "metadata": {},
   "source": [
    "Replacement of NULL Value."
   ]
  },
  {
   "cell_type": "markdown",
   "metadata": {},
   "source": [
    "#### Create Table that contain NULL"
   ]
  },
  {
   "cell_type": "code",
   "execution_count": 33,
   "metadata": {},
   "outputs": [
    {
     "name": "stdout",
     "output_type": "stream",
     "text": [
      " * sqlite:///course.db3\n",
      "Done.\n"
     ]
    },
    {
     "data": {
      "text/plain": [
       "[]"
      ]
     },
     "execution_count": 33,
     "metadata": {},
     "output_type": "execute_result"
    }
   ],
   "source": [
    "%%sql\n",
    "CREATE TABLE IF NOT EXISTS memberships (\n",
    "    membership_id INT     PRIMARY KEY,\n",
    "    program_name  TEXT    NOT NULL,\n",
    "    net_price     NUMERIC NOT NULL,\n",
    "    discount      NUMERIC\n",
    ");"
   ]
  },
  {
   "cell_type": "code",
   "execution_count": 34,
   "metadata": {},
   "outputs": [
    {
     "name": "stdout",
     "output_type": "stream",
     "text": [
      " * sqlite:///course.db3\n",
      "3 rows affected.\n"
     ]
    },
    {
     "data": {
      "text/plain": [
       "[]"
      ]
     },
     "execution_count": 34,
     "metadata": {},
     "output_type": "execute_result"
    }
   ],
   "source": [
    "%%sql\n",
    "INSERT INTO memberships(program_name, net_price, discount)\n",
    "VALUES('1 Month', 100, null),\n",
    "      ('3 Months', 300, 10),\n",
    "      ('6 Months', 600, 30);"
   ]
  },
  {
   "cell_type": "code",
   "execution_count": 36,
   "metadata": {},
   "outputs": [
    {
     "name": "stdout",
     "output_type": "stream",
     "text": [
      " * sqlite:///course.db3\n",
      "Done.\n"
     ]
    },
    {
     "data": {
      "text/html": [
       "<table>\n",
       "    <tr>\n",
       "        <th>membership_id</th>\n",
       "        <th>program_name</th>\n",
       "        <th>net_price</th>\n",
       "        <th>discount</th>\n",
       "    </tr>\n",
       "    <tr>\n",
       "        <td>None</td>\n",
       "        <td>1 Month</td>\n",
       "        <td>100</td>\n",
       "        <td>None</td>\n",
       "    </tr>\n",
       "    <tr>\n",
       "        <td>None</td>\n",
       "        <td>3 Months</td>\n",
       "        <td>300</td>\n",
       "        <td>10</td>\n",
       "    </tr>\n",
       "    <tr>\n",
       "        <td>None</td>\n",
       "        <td>6 Months</td>\n",
       "        <td>600</td>\n",
       "        <td>30</td>\n",
       "    </tr>\n",
       "</table>"
      ],
      "text/plain": [
       "[(None, '1 Month', 100, None),\n",
       " (None, '3 Months', 300, 10),\n",
       " (None, '6 Months', 600, 30)]"
      ]
     },
     "execution_count": 36,
     "metadata": {},
     "output_type": "execute_result"
    }
   ],
   "source": [
    "%%sql\n",
    "SELECT * FROM memberships"
   ]
  },
  {
   "cell_type": "code",
   "execution_count": 38,
   "metadata": {
    "scrolled": true
   },
   "outputs": [
    {
     "name": "stdout",
     "output_type": "stream",
     "text": [
      " * sqlite:///course.db3\n",
      "Done.\n"
     ]
    },
    {
     "data": {
      "text/html": [
       "<table>\n",
       "    <tr>\n",
       "        <th>Total_price</th>\n",
       "    </tr>\n",
       "    <tr>\n",
       "        <td>None</td>\n",
       "    </tr>\n",
       "    <tr>\n",
       "        <td>290</td>\n",
       "    </tr>\n",
       "    <tr>\n",
       "        <td>570</td>\n",
       "    </tr>\n",
       "</table>"
      ],
      "text/plain": [
       "[(None,), (290,), (570,)]"
      ]
     },
     "execution_count": 38,
     "metadata": {},
     "output_type": "execute_result"
    }
   ],
   "source": [
    "%%sql\n",
    "SELECT (net_price - discount) as Total_price\n",
    "FROM memberships"
   ]
  },
  {
   "cell_type": "markdown",
   "metadata": {},
   "source": [
    "Total Price marked as none since NULL value of discount table, in order to rightly calculate use COALESCE to alter NULL into specific value."
   ]
  },
  {
   "cell_type": "code",
   "execution_count": 39,
   "metadata": {},
   "outputs": [
    {
     "name": "stdout",
     "output_type": "stream",
     "text": [
      " * sqlite:///course.db3\n",
      "Done.\n"
     ]
    },
    {
     "data": {
      "text/html": [
       "<table>\n",
       "    <tr>\n",
       "        <th>Total_price</th>\n",
       "    </tr>\n",
       "    <tr>\n",
       "        <td>100</td>\n",
       "    </tr>\n",
       "    <tr>\n",
       "        <td>290</td>\n",
       "    </tr>\n",
       "    <tr>\n",
       "        <td>570</td>\n",
       "    </tr>\n",
       "</table>"
      ],
      "text/plain": [
       "[(100,), (290,), (570,)]"
      ]
     },
     "execution_count": 39,
     "metadata": {},
     "output_type": "execute_result"
    }
   ],
   "source": [
    "%%sql\n",
    "SELECT (net_price - COALESCE(discount,0)) as Total_price\n",
    "FROM memberships"
   ]
  },
  {
   "cell_type": "markdown",
   "metadata": {},
   "source": [
    "## LENGTH"
   ]
  },
  {
   "cell_type": "markdown",
   "metadata": {},
   "source": [
    "Fing Length of String for each row."
   ]
  },
  {
   "cell_type": "code",
   "execution_count": 43,
   "metadata": {},
   "outputs": [
    {
     "name": "stdout",
     "output_type": "stream",
     "text": [
      " * sqlite:///course.db3\n",
      "Done.\n"
     ]
    },
    {
     "data": {
      "text/html": [
       "<table>\n",
       "    <tr>\n",
       "        <th>LENGTH(last_name)</th>\n",
       "    </tr>\n",
       "    <tr>\n",
       "        <td>7</td>\n",
       "    </tr>\n",
       "    <tr>\n",
       "        <td>5</td>\n",
       "    </tr>\n",
       "    <tr>\n",
       "        <td>7</td>\n",
       "    </tr>\n",
       "    <tr>\n",
       "        <td>9</td>\n",
       "    </tr>\n",
       "    <tr>\n",
       "        <td>7</td>\n",
       "    </tr>\n",
       "</table>"
      ],
      "text/plain": [
       "[(7,), (5,), (7,), (9,), (7,)]"
      ]
     },
     "execution_count": 43,
     "metadata": {},
     "output_type": "execute_result"
    }
   ],
   "source": [
    "%%sql\n",
    "SELECT LENGTH(last_name)\n",
    "FROM employees\n",
    "LIMIT 5"
   ]
  },
  {
   "cell_type": "markdown",
   "metadata": {},
   "source": [
    "## Merge Column Data using ||"
   ]
  },
  {
   "cell_type": "code",
   "execution_count": 46,
   "metadata": {},
   "outputs": [
    {
     "name": "stdout",
     "output_type": "stream",
     "text": [
      " * sqlite:///course.db3\n",
      "Done.\n"
     ]
    },
    {
     "data": {
      "text/html": [
       "<table>\n",
       "    <tr>\n",
       "        <th>merge</th>\n",
       "    </tr>\n",
       "    <tr>\n",
       "        <td>Chong is professors of Science department</td>\n",
       "    </tr>\n",
       "    <tr>\n",
       "        <td>Brown is professors of Math department</td>\n",
       "    </tr>\n",
       "    <tr>\n",
       "        <td>Jones is professors of History department</td>\n",
       "    </tr>\n",
       "    <tr>\n",
       "        <td>Wilson is professors of Astronomy department</td>\n",
       "    </tr>\n",
       "    <tr>\n",
       "        <td>Miler is professors of Agriculture department</td>\n",
       "    </tr>\n",
       "    <tr>\n",
       "        <td>Williams is professors of Law department</td>\n",
       "    </tr>\n",
       "</table>"
      ],
      "text/plain": [
       "[('Chong is professors of Science department',),\n",
       " ('Brown is professors of Math department',),\n",
       " ('Jones is professors of History department',),\n",
       " ('Wilson is professors of Astronomy department',),\n",
       " ('Miler is professors of Agriculture department',),\n",
       " ('Williams is professors of Law department',)]"
      ]
     },
     "execution_count": 46,
     "metadata": {},
     "output_type": "execute_result"
    }
   ],
   "source": [
    "%%sql\n",
    "SELECT last_name || ' is professors of ' || department || ' department' as merge\n",
    "FROM professors"
   ]
  },
  {
   "cell_type": "markdown",
   "metadata": {},
   "source": [
    "## Finding Position Using INSTR"
   ]
  },
  {
   "cell_type": "code",
   "execution_count": 59,
   "metadata": {},
   "outputs": [
    {
     "name": "stdout",
     "output_type": "stream",
     "text": [
      " * sqlite:///course.db3\n",
      "Done.\n"
     ]
    },
    {
     "data": {
      "text/html": [
       "<table>\n",
       "    <tr>\n",
       "        <th>email</th>\n",
       "        <th>pos</th>\n",
       "    </tr>\n",
       "    <tr>\n",
       "        <td>bmanueau0@dion.ne.jp</td>\n",
       "        <td>10</td>\n",
       "    </tr>\n",
       "    <tr>\n",
       "        <td>amcnee1@google.es</td>\n",
       "        <td>8</td>\n",
       "    </tr>\n",
       "    <tr>\n",
       "        <td>ssymonds2@hhs.gov</td>\n",
       "        <td>10</td>\n",
       "    </tr>\n",
       "    <tr>\n",
       "        <td>None</td>\n",
       "        <td>None</td>\n",
       "    </tr>\n",
       "    <tr>\n",
       "        <td>fmorffew4@a8.net</td>\n",
       "        <td>10</td>\n",
       "    </tr>\n",
       "</table>"
      ],
      "text/plain": [
       "[('bmanueau0@dion.ne.jp', 10),\n",
       " ('amcnee1@google.es', 8),\n",
       " ('ssymonds2@hhs.gov', 10),\n",
       " (None, None),\n",
       " ('fmorffew4@a8.net', 10)]"
      ]
     },
     "execution_count": 59,
     "metadata": {},
     "output_type": "execute_result"
    }
   ],
   "source": [
    "%%sql\n",
    "SELECT email, INSTR(email,'@') pos\n",
    "FROM employees\n",
    "LIMIT 5"
   ]
  },
  {
   "cell_type": "markdown",
   "metadata": {},
   "source": [
    "## Split String using SUBSTR"
   ]
  },
  {
   "cell_type": "code",
   "execution_count": 63,
   "metadata": {},
   "outputs": [
    {
     "name": "stdout",
     "output_type": "stream",
     "text": [
      " * sqlite:///course.db3\n",
      "Done.\n"
     ]
    },
    {
     "data": {
      "text/html": [
       "<table>\n",
       "    <tr>\n",
       "        <th>email</th>\n",
       "        <th>domain</th>\n",
       "    </tr>\n",
       "    <tr>\n",
       "        <td>bmanueau0@dion.ne.jp</td>\n",
       "        <td>dion.ne.jp</td>\n",
       "    </tr>\n",
       "    <tr>\n",
       "        <td>amcnee1@google.es</td>\n",
       "        <td>google.es</td>\n",
       "    </tr>\n",
       "    <tr>\n",
       "        <td>ssymonds2@hhs.gov</td>\n",
       "        <td>hhs.gov</td>\n",
       "    </tr>\n",
       "    <tr>\n",
       "        <td>None</td>\n",
       "        <td>None</td>\n",
       "    </tr>\n",
       "    <tr>\n",
       "        <td>fmorffew4@a8.net</td>\n",
       "        <td>a8.net</td>\n",
       "    </tr>\n",
       "</table>"
      ],
      "text/plain": [
       "[('bmanueau0@dion.ne.jp', 'dion.ne.jp'),\n",
       " ('amcnee1@google.es', 'google.es'),\n",
       " ('ssymonds2@hhs.gov', 'hhs.gov'),\n",
       " (None, None),\n",
       " ('fmorffew4@a8.net', 'a8.net')]"
      ]
     },
     "execution_count": 63,
     "metadata": {},
     "output_type": "execute_result"
    }
   ],
   "source": [
    "%%sql\n",
    "SELECT email, SUBSTR(email,INSTR(email,'@')+1) as domain\n",
    "FROM employees\n",
    "LIMIT 5"
   ]
  }
 ],
 "metadata": {
  "kernelspec": {
   "display_name": "Python 3",
   "language": "python",
   "name": "python3"
  },
  "language_info": {
   "codemirror_mode": {
    "name": "ipython",
    "version": 3
   },
   "file_extension": ".py",
   "mimetype": "text/x-python",
   "name": "python",
   "nbconvert_exporter": "python",
   "pygments_lexer": "ipython3",
   "version": "3.6.9"
  }
 },
 "nbformat": 4,
 "nbformat_minor": 4
}
